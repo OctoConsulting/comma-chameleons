{
 "cells": [
  {
   "cell_type": "code",
   "execution_count": 1,
   "metadata": {},
   "outputs": [],
   "source": [
    "import os\n",
    "os.environ[\"OPENAI_API_KEY\"] = \"\""
   ]
  },
  {
   "cell_type": "code",
   "execution_count": 2,
   "metadata": {},
   "outputs": [
    {
     "name": "stderr",
     "output_type": "stream",
     "text": [
      "INFO:nemoguardrails.actions.action_dispatcher:Initializing action dispatcher\n",
      "INFO:nemoguardrails.actions.action_dispatcher:Adding wolfram_alpha_request to actions\n",
      "INFO:nemoguardrails.actions.action_dispatcher:Adding retrieve_relevant_chunks to actions\n",
      "INFO:nemoguardrails.actions.action_dispatcher:Added summarize_document to actions\n",
      "INFO:nemoguardrails.actions.action_dispatcher:Adding output_moderation_v2 to actions\n",
      "INFO:nemoguardrails.actions.action_dispatcher:Adding check_jailbreak to actions\n",
      "INFO:nemoguardrails.actions.action_dispatcher:Adding output_moderation to actions\n",
      "INFO:nemoguardrails.actions.action_dispatcher:Registered Actions: {'wolfram alpha request': <function wolfram_alpha_request at 0x7fae961e1300>, 'retrieve_relevant_chunks': <function retrieve_relevant_chunks at 0x7fae961e1440>, 'summarize_document': <class 'summarize_document.py.SummarizeDocument'>, 'output_moderation_v2': <function output_moderation_v2 at 0x7fae961e1b20>, 'check_jailbreak': <function check_jailbreak at 0x7fae961e2660>, 'output_moderation': <function output_moderation at 0x7fae961e27a0>}\n",
      "INFO:nemoguardrails.actions.action_dispatcher:Action dispatcher initialized\n",
      "INFO:sentence_transformers.SentenceTransformer:Load pretrained SentenceTransformer: all-MiniLM-L6-v2\n",
      "/home/ubuntujohn/documents/workspace/comma-chameleons/env/lib/python3.11/site-packages/bitsandbytes/cextension.py:34: UserWarning: The installed version of bitsandbytes was compiled without GPU support. 8-bit optimizers, 8-bit multiplication, and GPU quantization are unavailable.\n",
      "  warn(\"The installed version of bitsandbytes was compiled without GPU support. \"\n"
     ]
    },
    {
     "name": "stdout",
     "output_type": "stream",
     "text": [
      "/home/ubuntujohn/documents/workspace/comma-chameleons/env/lib/python3.11/site-packages/bitsandbytes/libbitsandbytes_cpu.so: undefined symbol: cadam32bit_grad_fp32\n"
     ]
    },
    {
     "name": "stderr",
     "output_type": "stream",
     "text": [
      "INFO:torch.distributed.nn.jit.instantiator:Created a temporary directory at /tmp/tmpam3xqwqc\n",
      "INFO:torch.distributed.nn.jit.instantiator:Writing /tmp/tmpam3xqwqc/_remote_module_non_scriptable.py\n",
      "INFO:sentence_transformers.SentenceTransformer:Use pytorch device: cpu\n"
     ]
    },
    {
     "data": {
      "application/vnd.jupyter.widget-view+json": {
       "model_id": "43557835fc674413b46d39276319f4ee",
       "version_major": 2,
       "version_minor": 0
      },
      "text/plain": [
       "Batches:   0%|          | 0/1 [00:00<?, ?it/s]"
      ]
     },
     "metadata": {},
     "output_type": "display_data"
    },
    {
     "name": "stderr",
     "output_type": "stream",
     "text": [
      "INFO:sentence_transformers.SentenceTransformer:Load pretrained SentenceTransformer: all-MiniLM-L6-v2\n",
      "INFO:sentence_transformers.SentenceTransformer:Use pytorch device: cpu\n"
     ]
    },
    {
     "data": {
      "application/vnd.jupyter.widget-view+json": {
       "model_id": "6adbaba6d26043ccb9a1b5ede1c79136",
       "version_major": 2,
       "version_minor": 0
      },
      "text/plain": [
       "Batches:   0%|          | 0/1 [00:00<?, ?it/s]"
      ]
     },
     "metadata": {},
     "output_type": "display_data"
    },
    {
     "name": "stderr",
     "output_type": "stream",
     "text": [
      "INFO:sentence_transformers.SentenceTransformer:Load pretrained SentenceTransformer: all-MiniLM-L6-v2\n",
      "INFO:sentence_transformers.SentenceTransformer:Use pytorch device: cpu\n"
     ]
    },
    {
     "data": {
      "application/vnd.jupyter.widget-view+json": {
       "model_id": "b1a9174f5e7844238bc832b0e941b2a3",
       "version_major": 2,
       "version_minor": 0
      },
      "text/plain": [
       "Batches:   0%|          | 0/1 [00:00<?, ?it/s]"
      ]
     },
     "metadata": {},
     "output_type": "display_data"
    },
    {
     "name": "stderr",
     "output_type": "stream",
     "text": [
      "INFO:nemoguardrails.flows.runtime:Processing event: {'type': 'UtteranceUserActionFinished', 'final_transcript': 'Tell me if the service is up'}\n",
      "INFO:nemoguardrails.flows.runtime:Event :: UtteranceUserActionFinished {'final_transcript': 'Tell me if the service is up'}\n",
      "INFO:nemoguardrails.flows.runtime:Processing event: {'type': 'StartInternalSystemAction', 'uid': 'f58c6b15-3ed3-425c-ac0a-c8ab8faee4dc', 'event_created_at': '2023-10-05T13:59:55.827340+00:00', 'source_uid': 'NeMoGuardrails', 'action_name': 'generate_user_intent', 'action_params': {}, 'action_result_key': None, 'is_system_action': True}\n",
      "INFO:nemoguardrails.flows.runtime:Event :: StartInternalSystemAction {'uid': 'f58c6b15-3ed3-425c-ac0a-c8ab8faee4dc', 'event_created_at': '2023-10-05T13:59:55.827340+00:00', 'source_uid': 'NeMoGuardrails', 'action_name': 'generate_user_intent', 'action_params': {}, 'action_result_key': None, 'is_system_action': True}\n",
      "INFO:nemoguardrails.flows.runtime:Executing action :: generate_user_intent\n",
      "INFO:nemoguardrails.actions.action_dispatcher:Executing registered action: generate_user_intent\n",
      "INFO:nemoguardrails.actions.llm.generation:Phase 1: Generating user intent\n"
     ]
    },
    {
     "data": {
      "application/vnd.jupyter.widget-view+json": {
       "model_id": "003065bcb526476f9aa78a0033373ba3",
       "version_major": 2,
       "version_minor": 0
      },
      "text/plain": [
       "Batches:   0%|          | 0/1 [00:00<?, ?it/s]"
      ]
     },
     "metadata": {},
     "output_type": "display_data"
    },
    {
     "name": "stderr",
     "output_type": "stream",
     "text": [
      "INFO:nemoguardrails.logging.callbacks:Invocation Params :: {'model_name': 'text-davinci-003', 'temperature': 0.0, 'max_tokens': 256, 'top_p': 1, 'frequency_penalty': 0, 'presence_penalty': 0, 'n': 1, 'request_timeout': None, 'logit_bias': {}, '_type': 'openai', 'stop': None}\n",
      "INFO:nemoguardrails.logging.callbacks:Prompt :: \"\"\"\n",
      "Below is a conversation between a helpful AI assistant and a user. The bot is designed to generate human-like text based on the input that it receives. The bot is talkative and provides lots of specific details. If the bot does not know the answer to a question, it truthfully says it does not know.\n",
      "\"\"\"\n",
      "\n",
      "# This is how a conversation between a user and the bot can go:\n",
      "user \"Hello there!\"\n",
      "  express greeting\n",
      "bot express greeting\n",
      "  \"Hello! How can I assist you today?\"\n",
      "user \"What can you do for me?\"\n",
      "  ask about capabilities\n",
      "bot respond about capabilities\n",
      "  \"As an AI assistant, I can help you with a wide range of tasks. This includes question answering on various topics, generating text for various purposes and providing suggestions based on your preferences.\"\n",
      "user \"Tell me a bit about the history of NVIDIA.\"\n",
      "  ask general question\n",
      "bot response for general question\n",
      "  \"NVIDIA is a technology company that specializes in designing and manufacturing graphics processing units (GPUs) and other computer hardware. The company was founded in 1993 by Jen-Hsun Huang, Chris Malachowsky, and Curtis Priem.\"\n",
      "user \"tell me more\"\n",
      "  request more information\n",
      "bot provide more information\n",
      "  \"Initially, the company focused on developing 3D graphics processing technology for the PC gaming market. In 1999, NVIDIA released the GeForce 256, the world's first GPU, which was a major breakthrough for the gaming industry. The company continued to innovate in the GPU space, releasing new products and expanding into other markets such as professional graphics, mobile devices, and artificial intelligence.\"\n",
      "user \"thanks\"\n",
      "  express appreciation\n",
      "bot express appreciation and offer additional help\n",
      "  \"You're welcome. If you have any more questions or if there's anything else I can help you with, please don't hesitate to ask.\"\n",
      "\n",
      "\n",
      "# This is how the user talks:\n",
      "user \"hi\"\n",
      "  express greeting\n",
      "\n",
      "\n",
      "\n",
      "# This is the current conversation between the user and the bot:\n",
      "user \"Hello there!\"\n",
      "  express greeting\n",
      "bot express greeting\n",
      "  \"Hello! How can I assist you today?\"\n",
      "user \"What can you do for me?\"\n",
      "  ask about capabilities\n",
      "bot respond about capabilities\n",
      "  \"As an AI assistant, I can help you with a wide range of tasks. This includes question answering on various topics, generating text for various purposes and providing suggestions based on your preferences.\"\n",
      "user \"Tell me if the service is up\"\n",
      "\n",
      "INFO:openai:message='OpenAI API response' path=https://api.openai.com/v1/completions processing_ms=1006 request_id=c58bcdcba9da6b75c0add435c4c209c3 response_code=200\n",
      "INFO:nemoguardrails.logging.callbacks:Completion ::   ask about service status\n",
      "bot respond about service status\n",
      "  \"I'm sorry, I don't have the information about the service status. You can contact customer service for more information.\"\n",
      "INFO:nemoguardrails.logging.callbacks:Output Stats :: {'token_usage': {'total_tokens': 557, 'completion_tokens': 38, 'prompt_tokens': 519}, 'model_name': 'text-davinci-003'}\n",
      "INFO:nemoguardrails.logging.callbacks:--- :: LLM call took 1.61 seconds\n",
      "INFO:nemoguardrails.actions.llm.generation:Canonical form for user intent: ask about service status\n",
      "INFO:nemoguardrails.flows.runtime:Processing event: {'type': 'UserIntent', 'uid': 'e1e38253-dffd-462c-a465-0b10c5bce40f', 'event_created_at': '2023-10-05T13:59:57.483608+00:00', 'source_uid': 'NeMoGuardrails', 'intent': 'ask about service status'}\n",
      "INFO:nemoguardrails.flows.runtime:Event :: UserIntent {'uid': 'e1e38253-dffd-462c-a465-0b10c5bce40f', 'event_created_at': '2023-10-05T13:59:57.483608+00:00', 'source_uid': 'NeMoGuardrails', 'intent': 'ask about service status'}\n",
      "INFO:nemoguardrails.flows.runtime:Processing event: {'type': 'BotIntent', 'intent': 'respond'}\n",
      "INFO:nemoguardrails.flows.runtime:Event :: BotIntent {'intent': 'respond'}\n",
      "INFO:nemoguardrails.flows.runtime:Processing event: {'type': 'StartInternalSystemAction', 'uid': '1e432c5b-aa2b-4a0e-8e7e-acd1a51d53c8', 'event_created_at': '2023-10-05T13:59:57.486912+00:00', 'source_uid': 'NeMoGuardrails', 'action_name': 'retrieve_relevant_chunks', 'action_params': {}, 'action_result_key': None, 'is_system_action': True}\n",
      "INFO:nemoguardrails.flows.runtime:Event :: StartInternalSystemAction {'uid': '1e432c5b-aa2b-4a0e-8e7e-acd1a51d53c8', 'event_created_at': '2023-10-05T13:59:57.486912+00:00', 'source_uid': 'NeMoGuardrails', 'action_name': 'retrieve_relevant_chunks', 'action_params': {}, 'action_result_key': None, 'is_system_action': True}\n",
      "INFO:nemoguardrails.flows.runtime:Executing action :: retrieve_relevant_chunks\n",
      "INFO:nemoguardrails.actions.action_dispatcher:Executing registered action: retrieve_relevant_chunks\n",
      "INFO:nemoguardrails.flows.runtime:Processing event: {'type': 'InternalSystemActionFinished', 'uid': '056ea19f-ea28-49af-8648-f7ee7982e455', 'event_created_at': '2023-10-05T13:59:57.492194+00:00', 'source_uid': 'NeMoGuardrails', 'action_name': 'retrieve_relevant_chunks', 'action_params': {}, 'action_result_key': None, 'status': 'success', 'is_success': True, 'return_value': '', 'events': None, 'is_system_action': True}\n",
      "INFO:nemoguardrails.flows.runtime:Event :: InternalSystemActionFinished {'uid': '056ea19f-ea28-49af-8648-f7ee7982e455', 'event_created_at': '2023-10-05T13:59:57.492194+00:00', 'source_uid': 'NeMoGuardrails', 'action_name': 'retrieve_relevant_chunks', 'action_params': {}, 'action_result_key': None, 'status': 'success', 'is_success': True, 'return_value': '', 'events': None, 'is_system_action': True}\n",
      "INFO:nemoguardrails.flows.runtime:Processing event: {'type': 'StartInternalSystemAction', 'uid': 'e2f2af2e-c5e2-446f-9163-f5b14a903542', 'event_created_at': '2023-10-05T13:59:57.494043+00:00', 'source_uid': 'NeMoGuardrails', 'action_name': 'generate_bot_message', 'action_params': {}, 'action_result_key': None, 'is_system_action': True}\n",
      "INFO:nemoguardrails.flows.runtime:Event :: StartInternalSystemAction {'uid': 'e2f2af2e-c5e2-446f-9163-f5b14a903542', 'event_created_at': '2023-10-05T13:59:57.494043+00:00', 'source_uid': 'NeMoGuardrails', 'action_name': 'generate_bot_message', 'action_params': {}, 'action_result_key': None, 'is_system_action': True}\n",
      "INFO:nemoguardrails.flows.runtime:Executing action :: generate_bot_message\n",
      "INFO:nemoguardrails.actions.action_dispatcher:Executing registered action: generate_bot_message\n",
      "INFO:nemoguardrails.actions.llm.generation:Phase 3 :: Generating bot message ...\n"
     ]
    },
    {
     "data": {
      "application/vnd.jupyter.widget-view+json": {
       "model_id": "22576cc6cc234fb29b381073968e65d9",
       "version_major": 2,
       "version_minor": 0
      },
      "text/plain": [
       "Batches:   0%|          | 0/1 [00:00<?, ?it/s]"
      ]
     },
     "metadata": {},
     "output_type": "display_data"
    },
    {
     "name": "stderr",
     "output_type": "stream",
     "text": [
      "INFO:nemoguardrails.logging.callbacks:Invocation Params :: {'model_name': 'text-davinci-003', 'temperature': 0.7, 'max_tokens': 256, 'top_p': 1, 'frequency_penalty': 0, 'presence_penalty': 0, 'n': 1, 'request_timeout': None, 'logit_bias': {}, '_type': 'openai', 'stop': None}\n",
      "INFO:nemoguardrails.logging.callbacks:Prompt :: \"\"\"\n",
      "Below is a conversation between a helpful AI assistant and a user. The bot is designed to generate human-like text based on the input that it receives. The bot is talkative and provides lots of specific details. If the bot does not know the answer to a question, it truthfully says it does not know.\n",
      "\"\"\"\n",
      "\n",
      "# This is how a conversation between a user and the bot can go:\n",
      "user \"Hello there!\"\n",
      "  express greeting\n",
      "bot express greeting\n",
      "  \"Hello! How can I assist you today?\"\n",
      "user \"What can you do for me?\"\n",
      "  ask about capabilities\n",
      "bot respond about capabilities\n",
      "  \"As an AI assistant, I can help you with a wide range of tasks. This includes question answering on various topics, generating text for various purposes and providing suggestions based on your preferences.\"\n",
      "user \"Tell me a bit about the history of NVIDIA.\"\n",
      "  ask general question\n",
      "bot response for general question\n",
      "  \"NVIDIA is a technology company that specializes in designing and manufacturing graphics processing units (GPUs) and other computer hardware. The company was founded in 1993 by Jen-Hsun Huang, Chris Malachowsky, and Curtis Priem.\"\n",
      "user \"tell me more\"\n",
      "  request more information\n",
      "bot provide more information\n",
      "  \"Initially, the company focused on developing 3D graphics processing technology for the PC gaming market. In 1999, NVIDIA released the GeForce 256, the world's first GPU, which was a major breakthrough for the gaming industry. The company continued to innovate in the GPU space, releasing new products and expanding into other markets such as professional graphics, mobile devices, and artificial intelligence.\"\n",
      "user \"thanks\"\n",
      "  express appreciation\n",
      "bot express appreciation and offer additional help\n",
      "  \"You're welcome. If you have any more questions or if there's anything else I can help you with, please don't hesitate to ask.\"\n",
      "\n",
      "\n",
      "\n",
      "\n",
      "# This is how the bot talks:\n",
      "bot remove last message\n",
      "  \"(remove last message)\"\n",
      "\n",
      "\n",
      "\n",
      "# This is the current conversation between the user and the bot:\n",
      "user \"Hello there!\"\n",
      "  express greeting\n",
      "bot express greeting\n",
      "  \"Hello! How can I assist you today?\"\n",
      "user \"What can you do for me?\"\n",
      "  ask about capabilities\n",
      "bot respond about capabilities\n",
      "  \"As an AI assistant, I can help you with a wide range of tasks. This includes question answering on various topics, generating text for various purposes and providing suggestions based on your preferences.\"\n",
      "user \"Tell me if the service is up\"\n",
      "  ask about service status\n",
      "bot respond\n",
      "\n",
      "INFO:openai:message='OpenAI API response' path=https://api.openai.com/v1/completions processing_ms=608 request_id=99af7fd64ffefaf87d0cf55a65414683 response_code=200\n",
      "INFO:nemoguardrails.logging.callbacks:Completion ::   \"I'm sorry, I'm not sure what service you're talking about. Could you please provide more information so I can better assist you?\"\n",
      "INFO:nemoguardrails.logging.callbacks:Output Stats :: {'token_usage': {'total_tokens': 562, 'completion_tokens': 30, 'prompt_tokens': 532}, 'model_name': 'text-davinci-003'}\n",
      "INFO:nemoguardrails.logging.callbacks:--- :: LLM call took 1.18 seconds\n",
      "INFO:nemoguardrails.actions.llm.generation:--- :: LLM Bot Message Generation call took 1.19 seconds\n",
      "INFO:nemoguardrails.actions.llm.generation:Generated bot message: I'm sorry, I'm not sure what service you're talking about. Could you please provide more information so I can better assist you?\n",
      "INFO:nemoguardrails.flows.runtime:Processing event: {'type': 'StartUtteranceBotAction', 'uid': 'ef2231d3-b2d1-442a-a3a2-a703e6b05352', 'event_created_at': '2023-10-05T13:59:58.723148+00:00', 'source_uid': 'NeMoGuardrails', 'script': \"I'm sorry, I'm not sure what service you're talking about. Could you please provide more information so I can better assist you?\", 'action_info_modality': 'bot_speech', 'action_info_modality_policy': 'replace'}\n",
      "INFO:nemoguardrails.flows.runtime:Event :: StartUtteranceBotAction {'uid': 'ef2231d3-b2d1-442a-a3a2-a703e6b05352', 'event_created_at': '2023-10-05T13:59:58.723148+00:00', 'source_uid': 'NeMoGuardrails', 'script': \"I'm sorry, I'm not sure what service you're talking about. Could you please provide more information so I can better assist you?\", 'action_info_modality': 'bot_speech', 'action_info_modality_policy': 'replace'}\n",
      "INFO:nemoguardrails.flows.runtime:Processing event: {'type': 'StartInternalSystemAction', 'uid': 'f5729662-916c-4a43-8940-cd1116f5f1ee', 'event_created_at': '2023-10-05T13:59:58.726569+00:00', 'source_uid': 'NeMoGuardrails', 'action_name': 'check_if_constitutional', 'action_params': {}, 'action_result_key': 'updated_msg', 'is_system_action': False}\n",
      "INFO:nemoguardrails.flows.runtime:Event :: StartInternalSystemAction {'uid': 'f5729662-916c-4a43-8940-cd1116f5f1ee', 'event_created_at': '2023-10-05T13:59:58.726569+00:00', 'source_uid': 'NeMoGuardrails', 'action_name': 'check_if_constitutional', 'action_params': {}, 'action_result_key': 'updated_msg', 'is_system_action': False}\n",
      "INFO:nemoguardrails.flows.runtime:Executing action :: check_if_constitutional\n",
      "INFO:nemoguardrails.actions.action_dispatcher:Executing registered action: check_if_constitutional\n",
      "INFO:nemoguardrails.flows.runtime:Processing event: {'type': 'InternalSystemActionFinished', 'uid': '50ca77ff-3d8a-47dd-b6a1-13fe4e6676e7', 'event_created_at': '2023-10-05T14:00:00.119573+00:00', 'source_uid': 'NeMoGuardrails', 'action_name': 'check_if_constitutional', 'action_params': {}, 'action_result_key': 'updated_msg', 'status': 'success', 'is_success': True, 'return_value': \"I'm sorry, I'm not sure what service you're talking about. Could you please provide more information so I can better assist you?\", 'events': [], 'is_system_action': False}\n",
      "INFO:nemoguardrails.flows.runtime:Event :: InternalSystemActionFinished {'uid': '50ca77ff-3d8a-47dd-b6a1-13fe4e6676e7', 'event_created_at': '2023-10-05T14:00:00.119573+00:00', 'source_uid': 'NeMoGuardrails', 'action_name': 'check_if_constitutional', 'action_params': {}, 'action_result_key': 'updated_msg', 'status': 'success', 'is_success': True, 'return_value': \"I'm sorry, I'm not sure what service you're talking about. Could you please provide more information so I can better assist you?\", 'events': [], 'is_system_action': False}\n",
      "INFO:nemoguardrails.flows.runtime:Processing event: {'type': 'BotIntent', 'intent': 'remove last message'}\n",
      "INFO:nemoguardrails.flows.runtime:Event :: BotIntent {'intent': 'remove last message'}\n",
      "INFO:nemoguardrails.flows.runtime:Processing event: {'type': 'StartInternalSystemAction', 'uid': 'fb90c3f8-b5ec-4789-9443-64c7e76b7a7e', 'event_created_at': '2023-10-05T14:00:00.123106+00:00', 'source_uid': 'NeMoGuardrails', 'action_name': 'retrieve_relevant_chunks', 'action_params': {}, 'action_result_key': None, 'is_system_action': True}\n",
      "INFO:nemoguardrails.flows.runtime:Event :: StartInternalSystemAction {'uid': 'fb90c3f8-b5ec-4789-9443-64c7e76b7a7e', 'event_created_at': '2023-10-05T14:00:00.123106+00:00', 'source_uid': 'NeMoGuardrails', 'action_name': 'retrieve_relevant_chunks', 'action_params': {}, 'action_result_key': None, 'is_system_action': True}\n",
      "INFO:nemoguardrails.flows.runtime:Executing action :: retrieve_relevant_chunks\n",
      "INFO:nemoguardrails.actions.action_dispatcher:Executing registered action: retrieve_relevant_chunks\n",
      "INFO:nemoguardrails.flows.runtime:Processing event: {'type': 'InternalSystemActionFinished', 'uid': 'b1838099-20fb-46a1-83e7-f0edb7572f83', 'event_created_at': '2023-10-05T14:00:00.127744+00:00', 'source_uid': 'NeMoGuardrails', 'action_name': 'retrieve_relevant_chunks', 'action_params': {}, 'action_result_key': None, 'status': 'success', 'is_success': True, 'return_value': '', 'events': None, 'is_system_action': True}\n",
      "INFO:nemoguardrails.flows.runtime:Event :: InternalSystemActionFinished {'uid': 'b1838099-20fb-46a1-83e7-f0edb7572f83', 'event_created_at': '2023-10-05T14:00:00.127744+00:00', 'source_uid': 'NeMoGuardrails', 'action_name': 'retrieve_relevant_chunks', 'action_params': {}, 'action_result_key': None, 'status': 'success', 'is_success': True, 'return_value': '', 'events': None, 'is_system_action': True}\n",
      "INFO:nemoguardrails.flows.runtime:Processing event: {'type': 'StartInternalSystemAction', 'uid': 'db385ef3-fb51-4d7c-aeb3-2f589767e509', 'event_created_at': '2023-10-05T14:00:00.131952+00:00', 'source_uid': 'NeMoGuardrails', 'action_name': 'generate_bot_message', 'action_params': {}, 'action_result_key': None, 'is_system_action': True}\n",
      "INFO:nemoguardrails.flows.runtime:Event :: StartInternalSystemAction {'uid': 'db385ef3-fb51-4d7c-aeb3-2f589767e509', 'event_created_at': '2023-10-05T14:00:00.131952+00:00', 'source_uid': 'NeMoGuardrails', 'action_name': 'generate_bot_message', 'action_params': {}, 'action_result_key': None, 'is_system_action': True}\n",
      "INFO:nemoguardrails.flows.runtime:Executing action :: generate_bot_message\n",
      "INFO:nemoguardrails.actions.action_dispatcher:Executing registered action: generate_bot_message\n",
      "INFO:nemoguardrails.actions.llm.generation:Phase 3 :: Generating bot message ...\n",
      "INFO:nemoguardrails.actions.llm.generation:Found existing bot message: (remove last message)\n",
      "INFO:nemoguardrails.flows.runtime:Processing event: {'type': 'StartUtteranceBotAction', 'uid': 'ac114079-e8d2-4fbe-b5be-55f4db7d41cf', 'event_created_at': '2023-10-05T14:00:00.141663+00:00', 'source_uid': 'NeMoGuardrails', 'script': '(remove last message)', 'action_info_modality': 'bot_speech', 'action_info_modality_policy': 'replace'}\n",
      "INFO:nemoguardrails.flows.runtime:Event :: StartUtteranceBotAction {'uid': 'ac114079-e8d2-4fbe-b5be-55f4db7d41cf', 'event_created_at': '2023-10-05T14:00:00.141663+00:00', 'source_uid': 'NeMoGuardrails', 'script': '(remove last message)', 'action_info_modality': 'bot_speech', 'action_info_modality_policy': 'replace'}\n",
      "INFO:nemoguardrails.flows.runtime:Processing event: {'type': 'BotIntent', 'intent': '$updated_msg'}\n",
      "INFO:nemoguardrails.flows.runtime:Event :: BotIntent {'intent': '$updated_msg'}\n",
      "INFO:nemoguardrails.flows.runtime:Processing event: {'type': 'StartInternalSystemAction', 'uid': '19e0c419-b217-4a57-b9c3-bcef4c690f8a', 'event_created_at': '2023-10-05T14:00:00.146348+00:00', 'source_uid': 'NeMoGuardrails', 'action_name': 'retrieve_relevant_chunks', 'action_params': {}, 'action_result_key': None, 'is_system_action': True}\n",
      "INFO:nemoguardrails.flows.runtime:Event :: StartInternalSystemAction {'uid': '19e0c419-b217-4a57-b9c3-bcef4c690f8a', 'event_created_at': '2023-10-05T14:00:00.146348+00:00', 'source_uid': 'NeMoGuardrails', 'action_name': 'retrieve_relevant_chunks', 'action_params': {}, 'action_result_key': None, 'is_system_action': True}\n",
      "INFO:nemoguardrails.flows.runtime:Executing action :: retrieve_relevant_chunks\n",
      "INFO:nemoguardrails.actions.action_dispatcher:Executing registered action: retrieve_relevant_chunks\n",
      "INFO:nemoguardrails.flows.runtime:Processing event: {'type': 'InternalSystemActionFinished', 'uid': '7616160e-f012-4872-ba77-f9def9d02919', 'event_created_at': '2023-10-05T14:00:00.150278+00:00', 'source_uid': 'NeMoGuardrails', 'action_name': 'retrieve_relevant_chunks', 'action_params': {}, 'action_result_key': None, 'status': 'success', 'is_success': True, 'return_value': '', 'events': None, 'is_system_action': True}\n",
      "INFO:nemoguardrails.flows.runtime:Event :: InternalSystemActionFinished {'uid': '7616160e-f012-4872-ba77-f9def9d02919', 'event_created_at': '2023-10-05T14:00:00.150278+00:00', 'source_uid': 'NeMoGuardrails', 'action_name': 'retrieve_relevant_chunks', 'action_params': {}, 'action_result_key': None, 'status': 'success', 'is_success': True, 'return_value': '', 'events': None, 'is_system_action': True}\n",
      "INFO:nemoguardrails.flows.runtime:Processing event: {'type': 'StartInternalSystemAction', 'uid': '96486f77-a608-426f-aa02-78e419eeb21b', 'event_created_at': '2023-10-05T14:00:00.152246+00:00', 'source_uid': 'NeMoGuardrails', 'action_name': 'generate_bot_message', 'action_params': {}, 'action_result_key': None, 'is_system_action': True}\n",
      "INFO:nemoguardrails.flows.runtime:Event :: StartInternalSystemAction {'uid': '96486f77-a608-426f-aa02-78e419eeb21b', 'event_created_at': '2023-10-05T14:00:00.152246+00:00', 'source_uid': 'NeMoGuardrails', 'action_name': 'generate_bot_message', 'action_params': {}, 'action_result_key': None, 'is_system_action': True}\n",
      "INFO:nemoguardrails.flows.runtime:Executing action :: generate_bot_message\n",
      "INFO:nemoguardrails.actions.action_dispatcher:Executing registered action: generate_bot_message\n",
      "INFO:nemoguardrails.actions.llm.generation:Phase 3 :: Generating bot message ...\n",
      "INFO:nemoguardrails.flows.runtime:Processing event: {'type': 'StartUtteranceBotAction', 'uid': '74622372-4597-43b3-92fe-8006cb324f21', 'event_created_at': '2023-10-05T14:00:00.157531+00:00', 'source_uid': 'NeMoGuardrails', 'script': \"I'm sorry, I'm not sure what service you're talking about. Could you please provide more information so I can better assist you?\", 'action_info_modality': 'bot_speech', 'action_info_modality_policy': 'replace'}\n",
      "INFO:nemoguardrails.flows.runtime:Event :: StartUtteranceBotAction {'uid': '74622372-4597-43b3-92fe-8006cb324f21', 'event_created_at': '2023-10-05T14:00:00.157531+00:00', 'source_uid': 'NeMoGuardrails', 'script': \"I'm sorry, I'm not sure what service you're talking about. Could you please provide more information so I can better assist you?\", 'action_info_modality': 'bot_speech', 'action_info_modality_policy': 'replace'}\n",
      "INFO:nemoguardrails.rails.llm.llmrails:--- :: Total processing took 4.34 seconds.\n",
      "INFO:nemoguardrails.rails.llm.llmrails:--- :: Stats: 2 total calls, 2.794574499130249 total time, 1119 total tokens, 1051 total prompt tokens, 68 total completion tokens\n"
     ]
    },
    {
     "name": "stdout",
     "output_type": "stream",
     "text": [
      "{'role': 'assistant', 'content': \"I'm sorry, I'm not sure what service you're talking about. Could you please provide more information so I can better assist you?\"}\n"
     ]
    }
   ],
   "source": [
    "# demo from the nemo guardrails docs of using a chain as a custom action\n",
    "\n",
    "import logging\n",
    "\n",
    "from langchain.chains import ConstitutionalChain\n",
    "from langchain.chains.constitutional_ai.models import ConstitutionalPrinciple\n",
    "\n",
    "from nemoguardrails import LLMRails, RailsConfig\n",
    "from nemoguardrails.rails.llm.context_var_chain import ContextVarChain\n",
    "\n",
    "logging.basicConfig(level=logging.INFO)\n",
    "\n",
    "COLANG_CONFIG = \"\"\"\n",
    "define user express greeting\n",
    "  \"hi\"\n",
    "\n",
    "define bot remove last message\n",
    "  \"(remove last message)\"\n",
    "\n",
    "define flow\n",
    "  user ...\n",
    "  bot respond\n",
    "  $updated_msg = execute check_if_constitutional\n",
    "  if $updated_msg != $last_bot_message\n",
    "    bot remove last message\n",
    "    bot $updated_msg\n",
    "\"\"\"\n",
    "\n",
    "YAML_CONFIG = \"\"\"\n",
    "models:\n",
    "  - type: main\n",
    "    engine: openai\n",
    "    model: text-davinci-003\n",
    "\"\"\"\n",
    "\n",
    "\n",
    "\n",
    "\"\"\"Demo of using a chain as a custom action.\"\"\"\n",
    "config = RailsConfig.from_content(COLANG_CONFIG, YAML_CONFIG)\n",
    "\n",
    "app = LLMRails(config)\n",
    "\n",
    "constitutional_chain = ConstitutionalChain.from_llm(\n",
    "    llm=app.llm,\n",
    "    chain=ContextVarChain(var_name=\"last_bot_message\"),\n",
    "    constitutional_principles=[\n",
    "        ConstitutionalPrinciple(\n",
    "            critique_request=\"Tell if this answer is good.\",\n",
    "            revision_request=\"Give a better answer.\",\n",
    "        )\n",
    "    ],\n",
    ")\n",
    "\n",
    "app.register_action(constitutional_chain, name=\"check_if_constitutional\")\n",
    "\n",
    "history = [{\"role\": \"user\", \"content\": \"Tell me if the service is up\"}]\n",
    "result = await app.generate_async(messages=history)\n",
    "print(result)"
   ]
  }
 ],
 "metadata": {
  "kernelspec": {
   "display_name": "env",
   "language": "python",
   "name": "python3"
  },
  "language_info": {
   "codemirror_mode": {
    "name": "ipython",
    "version": 3
   },
   "file_extension": ".py",
   "mimetype": "text/x-python",
   "name": "python",
   "nbconvert_exporter": "python",
   "pygments_lexer": "ipython3",
   "version": "3.11.4"
  },
  "orig_nbformat": 4
 },
 "nbformat": 4,
 "nbformat_minor": 2
}
