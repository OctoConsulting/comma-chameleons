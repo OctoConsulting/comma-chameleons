{
 "cells": [
  {
   "cell_type": "code",
   "execution_count": 1,
   "metadata": {},
   "outputs": [],
   "source": [
    "import tiktoken\n",
    "\n",
    "tokenizer = tiktoken.get_encoding('cl100k_base')\n",
    "\n",
    "# create the length function\n",
    "def tiktoken_len(text):\n",
    "    tokens = tokenizer.encode(\n",
    "        text,\n",
    "        disallowed_special=()\n",
    "    )\n",
    "    return len(tokens)"
   ]
  },
  {
   "cell_type": "code",
   "execution_count": 4,
   "metadata": {},
   "outputs": [],
   "source": [
    "from langchain.document_loaders import TextLoader\n",
    "\n"
   ]
  },
  {
   "cell_type": "code",
   "execution_count": 6,
   "metadata": {},
   "outputs": [
    {
     "data": {
      "text/plain": [
       "1"
      ]
     },
     "execution_count": 6,
     "metadata": {},
     "output_type": "execute_result"
    }
   ],
   "source": [
    "loader = TextLoader('docs/FakeWR.txt')\n",
    "docs = loader.load()\n",
    "len(docs)"
   ]
  },
  {
   "cell_type": "code",
   "execution_count": 10,
   "metadata": {},
   "outputs": [
    {
     "data": {
      "text/plain": [
       "[Document(page_content=\"Certainly, tailoring a Workforce Resilience Program specifically for employees of the Office of Information Technology (OIT) at the Centers for Medicare & Medicaid Services (CMS) means integrating elements pertinent to the nature of their work, the demands of the healthcare sector, and the unique challenges faced by IT professionals. Here's how this could be done:\\n\\n### CMS OIT Workforce Resilience Program\\n\\n1. **Program Objective**:\\n    - Support the continuous operation of CMS digital infrastructure and health data systems.\\n    - Align with healthcare regulations and data protection standards.\\n    - Foster a resilient IT community capable of responding to healthcare crises.\\n\\n2. **Risk Assessment**:\\n    - Identify IT-specific challenges, such as cybersecurity threats, system outages, and data breaches.\\n    - Evaluate potential health sector crises like pandemics, which may strain digital services.\\n\\n3. **Training & Education**:\\n    - Enhance cybersecurity awareness and promote best practices.\\n    - Conduct workshops on healthcare IT trends and emerging technologies.\\n    - Offer courses on patient data privacy and HIPAA compliance.\\n\\n10. **Leadership & Management Training**:\\n    - Focus on IT project management, agile methodologies, and stakeholder communication.\\n    - Emphasize healthcare technology innovation and its leadership.\\n\\n14. **Continuous Improvement**:\\n    - Stay updated with advances in healthcare IT.\\n    - Engage in public-private partnerships for innovation in health technology.\\n\\nFor CMS OIT, ensuring resilience isn't just about keeping systems running; it's about ensuring that millions of beneficiaries continue receiving the care and support they need. A resilience program tailored to their unique demands ensures that in the face of adversity, CMS's digital backbone remains strong and responsive.\\n\\nLet's dive deep into the training aspect tailored for CMS OIT employees, focusing on the skills mentioned:\\n\\n### CMS OIT Training for Workforce Resilience\\n\\n#### 1. **Product Management (PM) Training**:\\n\\n- **Objective**: Equip OIT personnel with the ability to manage software products and projects efficiently, ensuring alignment with CMS's strategic goals.\\n  \\n- **Modules**:\\n    - Fundamentals of Healthcare IT Product Management.\\n    - Navigating regulatory and compliance requirements in product development.\\n    - Stakeholder communication and management for IT projects.\\n\\n#### 2. **Human-Centered Design (HCD)**:\\n\\n- **Objective**: Foster a user-first approach in designing and deploying IT solutions within CMS.\\n  \\n- **Modules**:\\n    - Introduction to Human-Centered Design in Healthcare.\\n    - Conducting user research within CMS's ecosystem.\\n    - Iterative design and prototyping for healthcare applications.\\n\\n#### 3. **Data Science Training**:\\n\\n- **Objective**: Enable OIT staff to analyze and derive insights from vast amounts of healthcare data, driving data-informed decision-making.\\n  \\n- **Modules**:\\n    - Data exploration, cleaning, and visualization tailored to healthcare datasets.\\n    - Statistical modeling and hypothesis testing in healthcare.\\n    - Advanced analytics techniques for patient data.\\n\\n#### 4. **Machine Learning (ML)**:\\n\\n- **Objective**: Equip OIT teams with the skills to develop predictive models for improved healthcare service delivery and fraud detection.\\n  \\n- **Modules**:\\n    - Machine Learning basics and its applications in healthcare.\\n    - Supervised and unsupervised learning for patient data analysis.\\n    - Deep learning for medical imaging and diagnostics.\\n\\n#### 5. **Cybersecurity (Cyber) Training**:\\n\\n- **Objective**: Strengthen CMS's digital defenses, ensuring the confidentiality, integrity, and availability of health data.\\n  \\n- **Modules**:\\n    - Fundamentals of cybersecurity in the healthcare sector.\\n    - Threat detection, prevention, and response in CMS's IT landscape.\\n    - Ensuring HIPAA compliance in cybersecurity practices.\\n\\n#### 6. **Cloud Computing Training**:\\n\\n- **Objective**: Facilitate OIT personnel's understanding of cloud services, ensuring efficient, scalable, and secure digital solutions for CMS.\\n  \\n- **Modules**:\\n    - Introduction to cloud computing in healthcare.\\n    - Designing and deploying healthcare applications on the cloud.\\n    - Ensuring data security and compliance in a cloud environment.\\n\\n#### Delivery and Evaluation:\\n\\n- **Blended Learning Approach**: Combine in-person training, online courses, workshops, and hands-on projects for a holistic learning experience.\\n  \\n- **Expert-led Sessions**: Engage industry experts and internal thought leaders to impart real-world knowledge and experiences.\\n  \\n- **Assessments**: Periodic assessments to gauge understanding, retention, and application of the skills learned.\\n  \\n- **Feedback Loop**: Allow participants to provide feedback after each module, ensuring continuous improvement in content and delivery.\\n\\n#### Continuous Skill Upgradation:\\n\\nGiven the rapidly evolving nature of technology and healthcare, it's essential to ensure that CMS OIT employees have access to regular updates and advanced courses in these areas.\\n\\nThis tailored training program ensures that CMS OIT employees are equipped with the most relevant and up-to-date skills, enhancing their ability to deliver efficient, secure, and user-friendly solutions to beneficiaries and stakeholders.\\n\\n\\nAbsolutely, incorporating the pillars of Awareness, Competency, and Engagement adds depth and structure to the training program. Let�s refine the CMS OIT Training for Workforce Resilience under these pillars:\\n\\n### Pillar 1: Awareness\\n\\nCreating an environment where employees are informed about the significance, applications, and potential of the mentioned skill areas in their domain.\\n\\n#### 1. **Product Management**:\\n- **Awareness Modules**: Introduction to the role of Product Management in healthcare IT, its significance in CMS, and the impact of good PM practices on patient care and service efficiency.\\n\\n#### 2. **Human-Centered Design**:\\n- **Awareness Modules**: Understanding the patient and stakeholder perspective, the value of user-centric designs in healthcare applications, and case studies on the impact of HCD in healthcare outcomes.\\n\\n#### 3. **Data Science**:\\n- **Awareness Modules**: The significance of data-driven decisions in healthcare, potential of data insights in CMS operations, and real-world impacts of data analytics in patient care.\\n\\n#### 4. **Machine Learning**:\\n- **Awareness Modules**: Demystifying ML in healthcare, its potential applications (from predictive health outcomes to fraud detection), and its role in future healthcare paradigms.\\n\\n#### 5. **Cybersecurity**:\\n- **Awareness Modules**: The importance of cyber hygiene in healthcare, potential threats and their impacts, and real-world incidents of cybersecurity breaches in healthcare institutions.\\n\\n#### 6. **Cloud Computing**:\\n- **Awareness Modules**: The role of cloud in modern healthcare IT, benefits like scalability and efficiency, and the transformational potential of cloud applications in healthcare.\\n\\n### Pillar 2: Competency\\n\\nEnsuring that OIT employees not only understand but are also skilled in the practical applications of their knowledge.\\n\\n#### For each of the aforementioned skills:\\n- **Competency Modules**: Hands-on exercises, workshops, and practical projects that require participants to apply their theoretical knowledge. For instance, in the case of Cybersecurity, this might involve simulated cyber-attack drills or vulnerability assessment exercises.\\n\\n### Pillar 3: Engagement\\n\\nEngaging participants in ongoing learning, fostering a sense of community, and promoting the real-world application of skills.\\n\\n#### For each of the aforementioned skills:\\n**Engagement Activities**:\\n    - **Knowledge Sharing Sessions**: Regular meetups where participants discuss challenges, share experiences, and present on recent advances or projects they've worked on.\\n    - **Communities of Practice**: Creating and fostering communities within CMS OIT where professionals interested in specific areas (like ML or Cloud Computing) can collaborate, share resources, and mentor each other.\\n    - **Continual Learning Opportunities**: Offering advanced courses, sending updates on the latest trends, and providing access to industry conferences or seminars.\\n    - **Feedback Platforms**: Tools or platforms where participants can offer feedback, ask questions, or seek further clarifications on their training modules.\\n\\nBy incorporating these three pillars - Awareness, Competency, and Engagement - the training program becomes a holistic initiative, ensuring that CMS OIT employees are not just trained but are also empowered, engaged, and invested in their learning and its application.\\n\\nAbsolutely, here's a structured breakdown of the CMS OIT Training for Workforce Resilience using the given time frames for the pillars of Awareness, Competency, and Engagement:\\n\\n### Pillar 1: Awareness\\n\\nProviding foundational understanding and insights into each domain, totaling a 3-hour commitment. Participants can choose from two delivery modes:\\n\\n- **Weekly Insight Sessions**: 1 hour per week spread across 3 weeks.\\n- **Concentrated Bootcamp**: A comprehensive 3-hour session covering all areas.\\n\\n#### For each skill:\\n\\n- Modules would be concise, emphasizing the significance, applications, and potential in the CMS OIT domain. They'd cover core concepts, real-world applications, and implications within the healthcare IT context.\\n\\n### Pillar 2: Competency\\n\\nBuilding hands-on proficiency with a structured 12-hour program spread across 6 weeks.\\n\\n- **Weekly Skill-Deepening Workshops**: 2 hours per week for 6 weeks.\\n\\n#### For each of the mentioned skills:\\n\\n- Participants will delve deeper into each area, practicing their knowledge through exercises, simulated projects, and practical scenarios. For instance, in Data Science, they might be tasked with analyzing real-world healthcare datasets and deriving actionable insights, while in Cybersecurity, they could work on identifying vulnerabilities in simulated IT environments.\\n\\n### Pillar 3: Engagement\\n\\nPromoting continual learning, collaboration, and application of skills. Given its nature, this pillar is characterized by a flexible time commitment, adapting to individual and collective preferences.\\n\\n#### For each skill:\\n\\n- **Knowledge Sharing Sessions**: Periodic meetups or webinars where members discuss recent advances, challenges, and case studies.\\n- **Communities of Practice**: Encourage participation in forums and discussion groups that foster collaboration and mutual mentorship.\\n- **Continual Learning Opportunities**: Notifications and access to advanced courses, industry webinars, seminars, or conferences based on individual interest.\\n- **Feedback Platforms**: Online platforms open for feedback, queries, and clarifications round the clock, ensuring support is available as and when required.\\n\\nIncorporating structured time frames for each pillar ensures that participants can plan their involvement effectively, balancing their training commitments with their routine tasks. The split across Awareness, Competency, and Engagement ensures that learning is not just an event but an ongoing journey, tailored to accommodate the demanding schedules of CMS OIT employees.\\n\", metadata={'source': 'docs/FakeWR.txt'})]"
      ]
     },
     "execution_count": 10,
     "metadata": {},
     "output_type": "execute_result"
    }
   ],
   "source": [
    "docs"
   ]
  },
  {
   "cell_type": "code",
   "execution_count": 11,
   "metadata": {},
   "outputs": [
    {
     "data": {
      "text/plain": [
       "2129"
      ]
     },
     "execution_count": 11,
     "metadata": {},
     "output_type": "execute_result"
    }
   ],
   "source": [
    "tiktoken_len(docs[0].page_content)"
   ]
  },
  {
   "cell_type": "code",
   "execution_count": 26,
   "metadata": {},
   "outputs": [],
   "source": [
    "from langchain.text_splitter import RecursiveCharacterTextSplitter\n",
    "\n",
    "text_splitter = RecursiveCharacterTextSplitter(\n",
    "    chunk_size=200,\n",
    "    chunk_overlap=20,  # number of tokens overlap between chunks\n",
    "    length_function=tiktoken_len,\n",
    "    separators=['\\n\\n', '\\n', ' ', '']\n",
    ")"
   ]
  },
  {
   "cell_type": "code",
   "execution_count": 13,
   "metadata": {},
   "outputs": [],
   "source": [
    "chunks = text_splitter.split_text(docs[0].page_content)"
   ]
  },
  {
   "cell_type": "code",
   "execution_count": 14,
   "metadata": {},
   "outputs": [
    {
     "data": {
      "text/plain": [
       "[\"Certainly, tailoring a Workforce Resilience Program specifically for employees of the Office of Information Technology (OIT) at the Centers for Medicare & Medicaid Services (CMS) means integrating elements pertinent to the nature of their work, the demands of the healthcare sector, and the unique challenges faced by IT professionals. Here's how this could be done:\\n\\n### CMS OIT Workforce Resilience Program\\n\\n1. **Program Objective**:\\n    - Support the continuous operation of CMS digital infrastructure and health data systems.\\n    - Align with healthcare regulations and data protection standards.\\n    - Foster a resilient IT community capable of responding to healthcare crises.\\n\\n2. **Risk Assessment**:\\n    - Identify IT-specific challenges, such as cybersecurity threats, system outages, and data breaches.\\n    - Evaluate potential health sector crises like pandemics, which may strain digital services.\\n\\n3. **Training & Education**:\\n    - Enhance cybersecurity awareness and promote best practices.\\n    - Conduct workshops on healthcare IT trends and emerging technologies.\\n    - Offer courses on patient data privacy and HIPAA compliance.\\n\\n10. **Leadership & Management Training**:\\n    - Focus on IT project management, agile methodologies, and stakeholder communication.\\n    - Emphasize healthcare technology innovation and its leadership.\\n\\n14. **Continuous Improvement**:\\n    - Stay updated with advances in healthcare IT.\\n    - Engage in public-private partnerships for innovation in health technology.\\n\\nFor CMS OIT, ensuring resilience isn't just about keeping systems running; it's about ensuring that millions of beneficiaries continue receiving the care and support they need. A resilience program tailored to their unique demands ensures that in the face of adversity, CMS's digital backbone remains strong and responsive.\\n\\nLet's dive deep into the training aspect tailored for CMS OIT employees, focusing on the skills mentioned:\\n\\n### CMS OIT Training for Workforce Resilience\\n\\n#### 1. **Product Management (PM) Training**:\",\n",
       " \"#### 1. **Product Management (PM) Training**:\\n\\n- **Objective**: Equip OIT personnel with the ability to manage software products and projects efficiently, ensuring alignment with CMS's strategic goals.\\n  \\n- **Modules**:\\n    - Fundamentals of Healthcare IT Product Management.\\n    - Navigating regulatory and compliance requirements in product development.\\n    - Stakeholder communication and management for IT projects.\\n\\n#### 2. **Human-Centered Design (HCD)**:\\n\\n- **Objective**: Foster a user-first approach in designing and deploying IT solutions within CMS.\\n  \\n- **Modules**:\\n    - Introduction to Human-Centered Design in Healthcare.\\n    - Conducting user research within CMS's ecosystem.\\n    - Iterative design and prototyping for healthcare applications.\\n\\n#### 3. **Data Science Training**:\\n\\n- **Objective**: Enable OIT staff to analyze and derive insights from vast amounts of healthcare data, driving data-informed decision-making.\\n  \\n- **Modules**:\\n    - Data exploration, cleaning, and visualization tailored to healthcare datasets.\\n    - Statistical modeling and hypothesis testing in healthcare.\\n    - Advanced analytics techniques for patient data.\\n\\n#### 4. **Machine Learning (ML)**:\\n\\n- **Objective**: Equip OIT teams with the skills to develop predictive models for improved healthcare service delivery and fraud detection.\\n  \\n- **Modules**:\\n    - Machine Learning basics and its applications in healthcare.\\n    - Supervised and unsupervised learning for patient data analysis.\\n    - Deep learning for medical imaging and diagnostics.\\n\\n#### 5. **Cybersecurity (Cyber) Training**:\\n\\n- **Objective**: Strengthen CMS's digital defenses, ensuring the confidentiality, integrity, and availability of health data.\\n  \\n- **Modules**:\\n    - Fundamentals of cybersecurity in the healthcare sector.\\n    - Threat detection, prevention, and response in CMS's IT landscape.\\n    - Ensuring HIPAA compliance in cybersecurity practices.\",\n",
       " \"#### 6. **Cloud Computing Training**:\\n\\n- **Objective**: Facilitate OIT personnel's understanding of cloud services, ensuring efficient, scalable, and secure digital solutions for CMS.\\n  \\n- **Modules**:\\n    - Introduction to cloud computing in healthcare.\\n    - Designing and deploying healthcare applications on the cloud.\\n    - Ensuring data security and compliance in a cloud environment.\\n\\n#### Delivery and Evaluation:\\n\\n- **Blended Learning Approach**: Combine in-person training, online courses, workshops, and hands-on projects for a holistic learning experience.\\n  \\n- **Expert-led Sessions**: Engage industry experts and internal thought leaders to impart real-world knowledge and experiences.\\n  \\n- **Assessments**: Periodic assessments to gauge understanding, retention, and application of the skills learned.\\n  \\n- **Feedback Loop**: Allow participants to provide feedback after each module, ensuring continuous improvement in content and delivery.\\n\\n#### Continuous Skill Upgradation:\\n\\nGiven the rapidly evolving nature of technology and healthcare, it's essential to ensure that CMS OIT employees have access to regular updates and advanced courses in these areas.\\n\\nThis tailored training program ensures that CMS OIT employees are equipped with the most relevant and up-to-date skills, enhancing their ability to deliver efficient, secure, and user-friendly solutions to beneficiaries and stakeholders.\\n\\n\\nAbsolutely, incorporating the pillars of Awareness, Competency, and Engagement adds depth and structure to the training program. Let�s refine the CMS OIT Training for Workforce Resilience under these pillars:\\n\\n### Pillar 1: Awareness\\n\\nCreating an environment where employees are informed about the significance, applications, and potential of the mentioned skill areas in their domain.\\n\\n#### 1. **Product Management**:\\n- **Awareness Modules**: Introduction to the role of Product Management in healthcare IT, its significance in CMS, and the impact of good PM practices on patient care and service efficiency.\",\n",
       " '#### 2. **Human-Centered Design**:\\n- **Awareness Modules**: Understanding the patient and stakeholder perspective, the value of user-centric designs in healthcare applications, and case studies on the impact of HCD in healthcare outcomes.\\n\\n#### 3. **Data Science**:\\n- **Awareness Modules**: The significance of data-driven decisions in healthcare, potential of data insights in CMS operations, and real-world impacts of data analytics in patient care.\\n\\n#### 4. **Machine Learning**:\\n- **Awareness Modules**: Demystifying ML in healthcare, its potential applications (from predictive health outcomes to fraud detection), and its role in future healthcare paradigms.\\n\\n#### 5. **Cybersecurity**:\\n- **Awareness Modules**: The importance of cyber hygiene in healthcare, potential threats and their impacts, and real-world incidents of cybersecurity breaches in healthcare institutions.\\n\\n#### 6. **Cloud Computing**:\\n- **Awareness Modules**: The role of cloud in modern healthcare IT, benefits like scalability and efficiency, and the transformational potential of cloud applications in healthcare.\\n\\n### Pillar 2: Competency\\n\\nEnsuring that OIT employees not only understand but are also skilled in the practical applications of their knowledge.\\n\\n#### For each of the aforementioned skills:\\n- **Competency Modules**: Hands-on exercises, workshops, and practical projects that require participants to apply their theoretical knowledge. For instance, in the case of Cybersecurity, this might involve simulated cyber-attack drills or vulnerability assessment exercises.\\n\\n### Pillar 3: Engagement\\n\\nEngaging participants in ongoing learning, fostering a sense of community, and promoting the real-world application of skills.',\n",
       " \"#### For each of the aforementioned skills:\\n**Engagement Activities**:\\n    - **Knowledge Sharing Sessions**: Regular meetups where participants discuss challenges, share experiences, and present on recent advances or projects they've worked on.\\n    - **Communities of Practice**: Creating and fostering communities within CMS OIT where professionals interested in specific areas (like ML or Cloud Computing) can collaborate, share resources, and mentor each other.\\n    - **Continual Learning Opportunities**: Offering advanced courses, sending updates on the latest trends, and providing access to industry conferences or seminars.\\n    - **Feedback Platforms**: Tools or platforms where participants can offer feedback, ask questions, or seek further clarifications on their training modules.\\n\\nBy incorporating these three pillars - Awareness, Competency, and Engagement - the training program becomes a holistic initiative, ensuring that CMS OIT employees are not just trained but are also empowered, engaged, and invested in their learning and its application.\\n\\nAbsolutely, here's a structured breakdown of the CMS OIT Training for Workforce Resilience using the given time frames for the pillars of Awareness, Competency, and Engagement:\\n\\n### Pillar 1: Awareness\\n\\nProviding foundational understanding and insights into each domain, totaling a 3-hour commitment. Participants can choose from two delivery modes:\\n\\n- **Weekly Insight Sessions**: 1 hour per week spread across 3 weeks.\\n- **Concentrated Bootcamp**: A comprehensive 3-hour session covering all areas.\\n\\n#### For each skill:\\n\\n- Modules would be concise, emphasizing the significance, applications, and potential in the CMS OIT domain. They'd cover core concepts, real-world applications, and implications within the healthcare IT context.\\n\\n### Pillar 2: Competency\\n\\nBuilding hands-on proficiency with a structured 12-hour program spread across 6 weeks.\\n\\n- **Weekly Skill-Deepening Workshops**: 2 hours per week for 6 weeks.\\n\\n#### For each of the mentioned skills:\",\n",
       " '#### For each of the mentioned skills:\\n\\n- Participants will delve deeper into each area, practicing their knowledge through exercises, simulated projects, and practical scenarios. For instance, in Data Science, they might be tasked with analyzing real-world healthcare datasets and deriving actionable insights, while in Cybersecurity, they could work on identifying vulnerabilities in simulated IT environments.\\n\\n### Pillar 3: Engagement\\n\\nPromoting continual learning, collaboration, and application of skills. Given its nature, this pillar is characterized by a flexible time commitment, adapting to individual and collective preferences.\\n\\n#### For each skill:\\n\\n- **Knowledge Sharing Sessions**: Periodic meetups or webinars where members discuss recent advances, challenges, and case studies.\\n- **Communities of Practice**: Encourage participation in forums and discussion groups that foster collaboration and mutual mentorship.\\n- **Continual Learning Opportunities**: Notifications and access to advanced courses, industry webinars, seminars, or conferences based on individual interest.\\n- **Feedback Platforms**: Online platforms open for feedback, queries, and clarifications round the clock, ensuring support is available as and when required.\\n\\nIncorporating structured time frames for each pillar ensures that participants can plan their involvement effectively, balancing their training commitments with their routine tasks. The split across Awareness, Competency, and Engagement ensures that learning is not just an event but an ongoing journey, tailored to accommodate the demanding schedules of CMS OIT employees.']"
      ]
     },
     "execution_count": 14,
     "metadata": {},
     "output_type": "execute_result"
    }
   ],
   "source": [
    "chunks"
   ]
  },
  {
   "cell_type": "code",
   "execution_count": 19,
   "metadata": {},
   "outputs": [],
   "source": [
    "from tqdm.auto import tqdm\n",
    "import hashlib"
   ]
  },
  {
   "cell_type": "code",
   "execution_count": 27,
   "metadata": {},
   "outputs": [
    {
     "name": "stderr",
     "output_type": "stream",
     "text": [
      "100%|██████████| 1/1 [00:00<00:00, 86.85it/s]\n"
     ]
    },
    {
     "data": {
      "text/plain": [
       "13"
      ]
     },
     "execution_count": 27,
     "metadata": {},
     "output_type": "execute_result"
    }
   ],
   "source": [
    "from langchain.text_splitter import RecursiveCharacterTextSplitter\n",
    "from tqdm.auto import tqdm\n",
    "import hashlib\n",
    "\n",
    "text_splitter = RecursiveCharacterTextSplitter(\n",
    "    chunk_size=200,\n",
    "    chunk_overlap=20,  # number of tokens overlap between chunks\n",
    "    length_function=tiktoken_len,\n",
    "    separators=['\\n\\n', '\\n', ' ', '']\n",
    ")\n",
    "\n",
    "\n",
    "m = hashlib.md5()\n",
    "documents = []\n",
    "\n",
    "for doc in tqdm(docs):\n",
    "    source = doc.metadata['source']\n",
    "    m.update(source.encode('utf-8'))\n",
    "    uid = m.hexdigest()[:12]\n",
    "    chunks = text_splitter.split_text(doc.page_content)\n",
    "    for i, chunk in enumerate(chunks):\n",
    "        documents.append({\n",
    "            'id': f'{uid}-{i}',\n",
    "            'text': chunk,\n",
    "            'source': source\n",
    "        })\n",
    "\n",
    "len(documents)"
   ]
  }
 ],
 "metadata": {
  "kernelspec": {
   "display_name": "env",
   "language": "python",
   "name": "python3"
  },
  "language_info": {
   "codemirror_mode": {
    "name": "ipython",
    "version": 3
   },
   "file_extension": ".py",
   "mimetype": "text/x-python",
   "name": "python",
   "nbconvert_exporter": "python",
   "pygments_lexer": "ipython3",
   "version": "3.11.4"
  },
  "orig_nbformat": 4
 },
 "nbformat": 4,
 "nbformat_minor": 2
}
